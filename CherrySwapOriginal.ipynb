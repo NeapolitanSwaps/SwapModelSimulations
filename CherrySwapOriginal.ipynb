{
 "cells": [
  {
   "cell_type": "markdown",
   "metadata": {},
   "source": [
    "# Cherry Swap Simulator"
   ]
  },
  {
   "cell_type": "code",
   "execution_count": null,
   "metadata": {},
   "outputs": [],
   "source": [
    "import chart_studio.plotly as py\n",
    "import plotly.graph_objs as go\n",
    "import pandas as pd\n",
    "import numpy as np\n",
    "import requests\n",
    "import ssl\n",
    "import time\n",
    "import math"
   ]
  },
  {
   "cell_type": "code",
   "execution_count": null,
   "metadata": {},
   "outputs": [],
   "source": [
    "#disable ssl for cryptory API & virtualenv\n",
    "ssl._create_default_https_context = ssl._create_unverified_context"
   ]
  },
  {
   "cell_type": "markdown",
   "metadata": {},
   "source": [
    "Request Data from Compound.finance API"
   ]
  },
  {
   "cell_type": "code",
   "execution_count": null,
   "metadata": {},
   "outputs": [],
   "source": [
    "cDaiAddress = '0xf5dce57282a584d2746faf1593d3121fcac444dc'\n",
    "endTimestamp = math.floor(time.time())\n",
    "startTimeStamp = endTimestamp - 6 * 30 * 24 * 60 * 60 #use the most recent 6 month's worth of data.\n",
    "num_buckets = 24 * 30\n",
    "requestURL = \"https://api.compound.finance/api/v2/market_history/graph?asset=%s&min_block_timestamp=%s&max_block_timestamp=%s&num_buckets=%s\"% (cDaiAddress, startTimeStamp, endTimestamp, num_buckets)\n",
    "\n",
    "response = requests.get(requestURL)"
   ]
  },
  {
   "cell_type": "markdown",
   "metadata": {},
   "source": [
    "Convert Data into dataframe"
   ]
  },
  {
   "cell_type": "code",
   "execution_count": null,
   "metadata": {},
   "outputs": [],
   "source": [
    "interestOverTime = pd.DataFrame.from_dict(response.json()['borrow_rates'])\n",
    "interestOverTime.head()\n",
    "interestOverTime['block_time'] = pd.to_datetime(interestOverTime['block_timestamp'],unit='s')\n",
    "interestOverTime['rate_per_block'] = interestOverTime['rate'] / (4 * 60 * 24 * 365)\n",
    "interestOverTime.head(20)"
   ]
  },
  {
   "cell_type": "markdown",
   "metadata": {},
   "source": [
    "Plot Intrest rate over time"
   ]
  },
  {
   "cell_type": "code",
   "execution_count": null,
   "metadata": {},
   "outputs": [],
   "source": [
    "data = [go.Scatter(\n",
    "        x=interestOverTime['block_time'],\n",
    "        y=interestOverTime['rate']\n",
    "    )]\n",
    "\n",
    "layout = go.Layout(\n",
    "    title='Compound Interst Rate Over time',\n",
    "    yaxis=dict(title='Lending Rate (%)'),\n",
    "    xaxis=dict(title='Date'),\n",
    "    template='plotly_white')\n",
    "\n",
    "figure = go.Figure(data=data, layout=layout)\n",
    "\n",
    "figure.show()"
   ]
  },
  {
   "cell_type": "markdown",
   "metadata": {},
   "source": [
    "Random pools"
   ]
  },
  {
   "cell_type": "code",
   "execution_count": null,
   "metadata": {},
   "outputs": [],
   "source": [
    "# random long and short pools\n",
    "pool = pd.DataFrame(np.random.randint(0,1000,size=(1000, 2)), columns=list('LS'))\n",
    "# total pool\n",
    "pool['Total'] = pool.L + pool.S\n",
    "# randomize whether test user is long or short\n",
    "pool['isLong'] = np.random.randint(0,2,size=(1000, 1))\n",
    "# random percentage test user holds in their pool\n",
    "pool['pool_percentage'] = np.random.rand(1000,1)\n",
    "# resulting holding of test user\n",
    "pool['position'] =  pool.pool_percentage * (pool.isLong * pool.L + (1 - pool.isLong) * pool.S)\n",
    "pool['total_percentage'] = pool.position / pool.Total\n",
    "pool"
   ]
  },
  {
   "cell_type": "code",
   "execution_count": null,
   "metadata": {},
   "outputs": [],
   "source": [
    "sim0 = pool\n",
    "sim0['Total_float'] = pool.Total\n",
    "i = 1\n",
    "while interestOverTime['block_timestamp'][i] < interestOverTime['block_timestamp'][0] + 30 * 24 * 60 * 60:\n",
    "    number_of_blocks = (interestOverTime['block_timestamp'][i] - interestOverTime['block_timestamp'][i-1]) / 15\n",
    "    sim0['Total_float'] = sim0['Total_float'] * (1 + interestOverTime['rate_per_block'][i-1])**number_of_blocks\n",
    "    i += 1\n",
    "sim0['Total_fixed'] = sim0.Total * (1 + interestOverTime['rate_per_block'][0])**((interestOverTime['block_timestamp'][i] - interestOverTime['block_timestamp'][0]) / 15)\n",
    "sim0['r_long'] = (sim0.S * (sim0['Total_float'] - sim0['Total_fixed'])) / sim0.Total**2\n",
    "sim0['r_short'] = -1 * (sim0.L * (sim0['Total_float'] - sim0['Total_fixed'])) / sim0.Total**2\n",
    "sim0['profit'] = sim0.position * (sim0.isLong * sim0.r_long + (1 - pool.isLong) * sim0.r_short)\n",
    "sim0['payout'] = sim0.total_percentage * sim0.Total_float + sim0.profit\n",
    "sim0['potential_payout'] = sim0.total_percentage * sim0.Total_float\n",
    "sim0"
   ]
  },
  {
   "cell_type": "code",
   "execution_count": null,
   "metadata": {},
   "outputs": [],
   "source": []
  },
  {
   "cell_type": "code",
   "execution_count": null,
   "metadata": {},
   "outputs": [],
   "source": []
  }
 ],
 "metadata": {
  "kernelspec": {
   "display_name": "Python 3",
   "language": "python",
   "name": "python3"
  },
  "language_info": {
   "codemirror_mode": {
    "name": "ipython",
    "version": 3
   },
   "file_extension": ".py",
   "mimetype": "text/x-python",
   "name": "python",
   "nbconvert_exporter": "python",
   "pygments_lexer": "ipython3",
   "version": "3.7.3"
  }
 },
 "nbformat": 4,
 "nbformat_minor": 2
}
