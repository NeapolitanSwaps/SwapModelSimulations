{
 "cells": [
  {
   "cell_type": "markdown",
   "metadata": {},
   "source": [
    "# Cherry Swap Simulation"
   ]
  },
  {
   "cell_type": "code",
   "execution_count": null,
   "metadata": {},
   "outputs": [],
   "source": [
    "import chart_studio.plotly as py\n",
    "import plotly.graph_objs as go\n",
    "import pandas as pd\n",
    "import numpy as np\n",
    "import requests\n",
    "import ssl\n",
    "import time\n",
    "import math\n",
    "import plotly.express as px"
   ]
  },
  {
   "cell_type": "code",
   "execution_count": null,
   "metadata": {},
   "outputs": [],
   "source": [
    "#disable ssl for cryptory API & virtualenv\n",
    "ssl._create_default_https_context = ssl._create_unverified_context"
   ]
  },
  {
   "cell_type": "markdown",
   "metadata": {},
   "source": [
    "Request Data from Compound.finance API"
   ]
  },
  {
   "cell_type": "code",
   "execution_count": null,
   "metadata": {},
   "outputs": [],
   "source": [
    "cDaiAddress = '0xf5dce57282a584d2746faf1593d3121fcac444dc'\n",
    "endTimestamp = math.floor(time.time())\n",
    "startTimeStamp = endTimestamp - 6 * 30 * 24 * 60 * 60 #use the most recent 6 month's worth of data.\n",
    "num_buckets = 24 * 30\n",
    "requestURL = \"https://api.compound.finance/api/v2/market_history/graph?asset=%s&min_block_timestamp=%s&max_block_timestamp=%s&num_buckets=%s\"% (cDaiAddress, startTimeStamp, endTimestamp, num_buckets)\n",
    "\n",
    "response = requests.get(requestURL)"
   ]
  },
  {
   "cell_type": "markdown",
   "metadata": {},
   "source": [
    "Convert Data into dataframe"
   ]
  },
  {
   "cell_type": "code",
   "execution_count": null,
   "metadata": {},
   "outputs": [],
   "source": [
    "interestOverTime = pd.DataFrame.from_dict(response.json()['borrow_rates'])\n",
    "interestOverTime.head()\n",
    "interestOverTime['block_time'] = pd.to_datetime(interestOverTime['block_timestamp'],unit='s')\n",
    "interestOverTime['rate_per_block'] = interestOverTime['rate'] / (4 * 60 * 24 * 365)\n",
    "interestOverTime.head(20)"
   ]
  },
  {
   "cell_type": "markdown",
   "metadata": {},
   "source": [
    "Plot Intrest rate over time"
   ]
  },
  {
   "cell_type": "code",
   "execution_count": null,
   "metadata": {},
   "outputs": [],
   "source": [
    "data = [go.Scatter(\n",
    "        x=interestOverTime['block_time'],\n",
    "        y=interestOverTime['rate']\n",
    "    )]\n",
    "\n",
    "layout = go.Layout(\n",
    "    title='Compound Interst Rate Over time',\n",
    "    yaxis=dict(title='Lending Rate (%)'),\n",
    "    xaxis=dict(title='Date'),\n",
    "    template='plotly_white')\n",
    "\n",
    "figure = go.Figure(data=data, layout=layout)\n",
    "\n",
    "figure.show()"
   ]
  },
  {
   "cell_type": "markdown",
   "metadata": {},
   "source": [
    "Random pools"
   ]
  },
  {
   "cell_type": "code",
   "execution_count": null,
   "metadata": {},
   "outputs": [],
   "source": [
    "# random long and short pools\n",
    "pool = pd.DataFrame(np.random.randint(0,1000,size=(10, 2)), columns=list('LS'))\n",
    "# total pool\n",
    "pool['Total'] = pool.L + pool.S\n",
    "# randomize whether test user is long or short\n",
    "pool['is_long'] = np.random.randint(0,2,size=(10, 1))\n",
    "# random percentage test user holds in their pool\n",
    "pool['pool_percentage'] = np.random.rand(10,1)\n",
    "# resulting holding of test user\n",
    "pool['position'] =  pool.pool_percentage * (pool.is_long * pool.L + (1 - pool.is_long) * pool.S)\n",
    "pool['total_percentage'] = pool.position / pool.Total\n",
    "pool"
   ]
  },
  {
   "cell_type": "markdown",
   "metadata": {},
   "source": [
    "### The Model\n",
    "\n",
    "* pools: $P_L^0 + P_S^0 = P_T^0$\n",
    "* short pool at $t+1$: $P_S^{1, fix} = P_S^0 (1 + i_0)^n$ where $i_0$ is the interest per block at $t=0$ and $n$ is the number of blocks mined between $t=1$ and $t=0$\n",
    "* total pool at $t+1$: $P_T^{1, float} = P_T^0 \\Pi_k (1 + i_k)^{n_k}$\n",
    "* payout short: $p_j^S = f_j^S P_S^{1, fix}$ where $f_j^S$ is the fraction participant $j$ holds in the short pool\n",
    "* payout long: $p_j^L = f_j^L (P_T^{1, float} - P_S^{1, fix})$"
   ]
  },
  {
   "cell_type": "code",
   "execution_count": null,
   "metadata": {},
   "outputs": [],
   "source": [
    "sim1 = pool.copy()\n",
    "sim1['Total_float'] = pool.Total\n",
    "i = 1\n",
    "while interestOverTime['block_timestamp'][i] < interestOverTime['block_timestamp'][0] + 30 * 24 * 60 * 60:\n",
    "    number_of_blocks = (interestOverTime['block_timestamp'][i] - interestOverTime['block_timestamp'][i-1]) / 15\n",
    "    sim1['Total_float'] = sim1['Total_float'] * (1 + interestOverTime['rate_per_block'][i-1])**number_of_blocks\n",
    "    i += 1\n",
    "sim1['Total_fixed'] = sim1.Total * (1 + interestOverTime['rate_per_block'][0])**((interestOverTime['block_timestamp'][i] - interestOverTime['block_timestamp'][0]) / 15)\n",
    "sim1['payout'] = sim1.pool_percentage * (sim1.is_long * (sim1.Total_float - (sim1.S/sim1.Total) * sim1.Total_fixed) + (1 - sim1.is_long) * (sim1.S/sim1.Total) * sim1.Total_fixed)\n",
    "sim1['non_pool_float_payout'] = sim1.total_percentage * sim1.Total_float\n",
    "sim1['profit'] = sim1.payout - sim1.non_pool_float_payout\n",
    "sim1"
   ]
  },
  {
   "cell_type": "code",
   "execution_count": null,
   "metadata": {},
   "outputs": [],
   "source": [
    "simulations = pool.copy()\n",
    "j = 0\n",
    "while interestOverTime['block_timestamp'][j] + 30 * 24 * 60 * 60 <= interestOverTime['block_timestamp'].iloc[-1]:\n",
    "    sim = pool.copy()\n",
    "    sim['Total_float'] = pool.Total\n",
    "    i = 1\n",
    "    while interestOverTime['block_timestamp'][j+i] < interestOverTime['block_timestamp'][j] + 30 * 24 * 60 * 60:\n",
    "        number_of_blocks = (interestOverTime['block_timestamp'][j+i] - interestOverTime['block_timestamp'][j+i-1]) / 15\n",
    "        sim['Total_float'] = sim['Total_float'] * (1 + interestOverTime['rate_per_block'][j+i-1])**number_of_blocks\n",
    "        i += 1\n",
    "    sim['Total_fixed'] = sim.Total * (1 + interestOverTime['rate_per_block'][j])**((interestOverTime['block_timestamp'][j+i] - interestOverTime['block_timestamp'][j]) / 15)\n",
    "    sim['payout'] = sim.pool_percentage * (sim.is_long * (sim.Total_float - (sim.S/sim.Total) * sim.Total_fixed) + (1 - sim.is_long) * (sim.S/sim.Total) * sim.Total_fixed)\n",
    "    sim['non_pool_float_payout'] = sim.total_percentage * sim.Total_float\n",
    "    sim['profit'] = sim.payout - sim.non_pool_float_payout\n",
    "    simulations[j] = sim.profit\n",
    "    j += 1"
   ]
  },
  {
   "cell_type": "code",
   "execution_count": null,
   "metadata": {},
   "outputs": [],
   "source": [
    "simulations"
   ]
  },
  {
   "cell_type": "code",
   "execution_count": null,
   "metadata": {},
   "outputs": [],
   "source": [
    "simulations_transpose = simulations.iloc[:,7:].transpose()\n",
    "simulations_transpose['start_time'] = interestOverTime.iloc[:len(simulations_transpose.iloc[:, 0]), 3]"
   ]
  },
  {
   "cell_type": "code",
   "execution_count": null,
   "metadata": {},
   "outputs": [],
   "source": [
    "simulations_transpose"
   ]
  },
  {
   "cell_type": "code",
   "execution_count": null,
   "metadata": {},
   "outputs": [],
   "source": [
    "data = [go.Scatter(\n",
    "        x=simulations_transpose['start_time'],\n",
    "        y=simulations_transpose[c]\n",
    "    ) for c in simulations_transpose.columns if c != 'start_time']\n",
    "\n",
    "layout = go.Layout(\n",
    "    title='Profits compared to direct investment in cDAI',\n",
    "    yaxis=dict(title='Profits'),\n",
    "    xaxis=dict(title='Date'),\n",
    "    template='plotly_white')\n",
    "\n",
    "figure = go.Figure(data=data, layout=layout)\n",
    "\n",
    "figure.show()"
   ]
  },
  {
   "cell_type": "code",
   "execution_count": null,
   "metadata": {},
   "outputs": [],
   "source": [
    "simulations_transpose_long = simulations[simulations.is_long == 1].iloc[:,7:].transpose()\n",
    "simulations_transpose_long['start_time'] = interestOverTime.iloc[:len(simulations_transpose_long.iloc[:, 0]), 3]"
   ]
  },
  {
   "cell_type": "code",
   "execution_count": null,
   "metadata": {},
   "outputs": [],
   "source": [
    "data = [go.Scatter(\n",
    "        x=simulations_transpose_long['start_time'],\n",
    "        y=simulations_transpose_long[c]\n",
    "    ) for c in simulations_transpose_long.columns if c != 'start_time']\n",
    "\n",
    "layout = go.Layout(\n",
    "    title='Profits compared to direct investment in cDAI - only long positions',\n",
    "    yaxis=dict(title='Profits'),\n",
    "    xaxis=dict(title='Date'),\n",
    "    template='plotly_white')\n",
    "\n",
    "figure = go.Figure(data=data, layout=layout)\n",
    "\n",
    "figure.show()"
   ]
  },
  {
   "cell_type": "code",
   "execution_count": null,
   "metadata": {},
   "outputs": [],
   "source": []
  }
 ],
 "metadata": {
  "kernelspec": {
   "display_name": "Python 3",
   "language": "python",
   "name": "python3"
  },
  "language_info": {
   "codemirror_mode": {
    "name": "ipython",
    "version": 3
   },
   "file_extension": ".py",
   "mimetype": "text/x-python",
   "name": "python",
   "nbconvert_exporter": "python",
   "pygments_lexer": "ipython3",
   "version": "3.7.3"
  }
 },
 "nbformat": 4,
 "nbformat_minor": 2
}
